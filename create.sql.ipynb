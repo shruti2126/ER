{
 "cells": [
  {
   "cell_type": "code",
   "execution_count": 3,
   "id": "bae0bf1c",
   "metadata": {},
   "outputs": [],
   "source": [
    "%load_ext sql\n",
    "%sql sqlite:///"
   ]
  },
  {
   "cell_type": "code",
   "execution_count": 7,
   "id": "f9970066",
   "metadata": {},
   "outputs": [
    {
     "name": "stdout",
     "output_type": "stream",
     "text": [
      " * sqlite:///\n",
      "Done.\n",
      "Done.\n",
      "(sqlite3.OperationalError) near \"%\": syntax error\n",
      "[SQL: %%sql drop table if exists Bid;]\n",
      "(Background on this error at: https://sqlalche.me/e/14/e3q8)\n"
     ]
    }
   ],
   "source": [
    "%%sql drop table if exists Item;\n",
    "create table Item(\n",
    "    ItemID int NOT NULL,\n",
    "    Name varchar(255) NOT NULL,\n",
    "    Currently double NOT NULL,\n",
    "    First_Bid  double NOT NULL,\n",
    "    SellerID varchar(255) NOT NULL,\n",
    "    Number_Of_Bids int NOT NULL,\n",
    "    Buy_Price double, \n",
    "    Started double NOT NULL, \n",
    "    Ends double NOT NULL, \n",
    "    Description varchar(255) NOT NULL, \n",
    "    PRIMARY KEY (ItemID),\n",
    "    FOREIGN KEY (SellerID) REFERENCES Seller(UserID)\n",
    ");\n"
   ]
  },
  {
   "cell_type": "code",
   "execution_count": 8,
   "id": "6c77198e",
   "metadata": {},
   "outputs": [
    {
     "name": "stdout",
     "output_type": "stream",
     "text": [
      " * sqlite:///\n",
      "Done.\n",
      "Done.\n"
     ]
    },
    {
     "data": {
      "text/plain": [
       "[]"
      ]
     },
     "execution_count": 8,
     "metadata": {},
     "output_type": "execute_result"
    }
   ],
   "source": [
    "%%sql drop table if exists Bid;\n",
    "create table Bid (\n",
    "    ItemID int NOT NULL, \n",
    "    Amount double NOT NULL, \n",
    "    Time TIMESTAMP NOT NULL,\n",
    "    UserID varchar(255) NOT NULL, \n",
    "    Rating varchar(255) NOT NULL, \n",
    "    Location varchar(255), \n",
    "    Country varchar(255),\n",
    "    Primary Key (ItemID, UserID),\n",
    "    FOREIGN KEY (ItemID) REFERENCES Items(ItemID)\n",
    ");"
   ]
  },
  {
   "cell_type": "code",
   "execution_count": null,
   "id": "5431c950",
   "metadata": {},
   "outputs": [],
   "source": [
    "%%sql drop table if exists Seller;\n",
    "create table Seller (\n",
    "    UserID int NOT NULL, \n",
    "    Rating varchar(255) NOT NULL, \n",
    "    PRIMARY KEY (UserID)\n",
    ");"
   ]
  },
  {
   "cell_type": "code",
   "execution_count": null,
   "id": "e2376b24",
   "metadata": {},
   "outputs": [],
   "source": [
    "%%sql drop table if exists Category;\n",
    "create table Category (\n",
    "    ItemID int NOT NULL, \n",
    "    CategoryName varchar(255) NOT NULL, \n",
    "    PRIMARY KEY (ItemID),\n",
    "    FOREIGN KEY (ItemID) REFERENCES Items (ItemID)\n",
    ");"
   ]
  },
  {
   "cell_type": "code",
   "execution_count": 6,
   "id": "607395d4",
   "metadata": {},
   "outputs": [
    {
     "name": "stdout",
     "output_type": "stream",
     "text": [
      " * sqlite:///\n",
      "Done.\n"
     ]
    },
    {
     "data": {
      "text/html": [
       "<table>\n",
       "    <tr>\n",
       "        <th>ItemID</th>\n",
       "        <th>Name</th>\n",
       "        <th>Currently</th>\n",
       "        <th>First_Bid</th>\n",
       "        <th>SellerID</th>\n",
       "        <th>Number_Of_Bids</th>\n",
       "        <th>Buy_Price</th>\n",
       "        <th>Started</th>\n",
       "        <th>Ends</th>\n",
       "        <th>Description</th>\n",
       "    </tr>\n",
       "</table>"
      ],
      "text/plain": [
       "[]"
      ]
     },
     "execution_count": 6,
     "metadata": {},
     "output_type": "execute_result"
    }
   ],
   "source": [
    "%sql Select * from Item;"
   ]
  }
 ],
 "metadata": {
  "kernelspec": {
   "display_name": "Python 3 (ipykernel)",
   "language": "python",
   "name": "python3"
  },
  "language_info": {
   "codemirror_mode": {
    "name": "ipython",
    "version": 3
   },
   "file_extension": ".py",
   "mimetype": "text/x-python",
   "name": "python",
   "nbconvert_exporter": "python",
   "pygments_lexer": "ipython3",
   "version": "3.9.7"
  }
 },
 "nbformat": 4,
 "nbformat_minor": 5
}
